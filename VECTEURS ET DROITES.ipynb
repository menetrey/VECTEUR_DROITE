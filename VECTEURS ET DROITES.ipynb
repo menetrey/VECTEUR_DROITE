{
 "cells": [
  {
   "cell_type": "markdown",
   "metadata": {},
   "source": [
    "# Vecteurs et droites\n",
    "\n",
    "<div class=\"alert alert-block alert-info\">\n",
    "<b>Contenus</b><br>\n",
    "  \n",
    "- Vecteur normal à une droite. Le vecteur de coordonnées (a,b) est normal à la droite d’équation $ax + by + c =0$. Le vecteur (-b,a) en est un vecteur directeur.<br>\n",
    "- Équation de cercle.<br>\n",
    "- Parabole représentative d’une fonction polynôme du second degré. Axe de symétrie, sommet.<br>\n",
    "\n",
    "<b>Capacités attendues</b><br>\n",
    "- Déterminer une équation cartésienne d’une droite connaissant un point et un vecteur normal.<br>\n",
    "- Déterminer les coordonnées du projeté orthogonal d’un point sur une droite.<br>\n",
    "- Déterminer et utiliser l’équation d’un cercle donné par son centre et son rayon.<br>\n",
    "- Reconnaître une équation de cercle, déterminer centre et rayon.<br>\n",
    "- Déterminer l’axe de symétrie et le sommet d’une parabole d’équation $y = ax^2 + bx + c$.<br>\n",
    "- Utiliser un repère pour étudier une configuration.<br>\n",
    "\n",
    "<b>Approfondissements possibles</b><br>\n",
    "- Recherche de l’ensemble des points équidistants de l’axe des abscisses et d’un point donné.<br>\n",
    "- Déterminer l’intersection d’un cercle ou d’une parabole d’équation $y = ax^2 + bx + c$ avec une droite parallèle à un axe.<br>\n",
    "\n",
    "</div>\n",
    "\n",
    "## I) Vecteur normal à une droite\n",
    "\n",
    "### 1) Vecteur directeur d'une droite\n",
    "<div class=\"alert alert-block alert-danger\">\n",
    "Soit $D$ une droite de vecteur directeur $\\overrightarrow{u}$. <br> \n",
    "$D$ d'équation cartésienne $ax+by+c=0$,  admet comme vecteur directeur $\\overrightarrow{u}(-b;a)$.<br>\n",
    "</div>\n",
    "\n",
    "équation réduite de la droite $D$:  \n",
    "\n",
    "par lecture graphique du coefficient directeur , on retrouve:\n",
    "  \n",
    "  \n",
    "  \n",
    "  \n",
    "  \n",
    "<div class=\"alert alert-block alert-success\">\n",
    "Exemple:<br>\n",
    "Soit la droite $D_1$ d'équation $2x+3y+6=0$. Déterminer un vecteur directeur de cette droite.<br>\n",
    "    <br>\n",
    "    <br>\n",
    "    <br>\n",
    "    <br>\n",
    "    </div>\n",
    "\n",
    "### 2) Vecteur normal d'une droite\n",
    "\n",
    "#### a. Définition  \n",
    "Soit $D$ une droite et $\\overrightarrow{n}$ un vecteur non nul du plan.  \n",
    "$\\overrightarrow{n}$ est un vecteur normal à $D \\iff \\overrightarrow{n}.\\overrightarrow{u}=0$.  \n",
    "  \n",
    "#### b. Propriétés  \n",
    "<div class=\"alert alert-block alert-danger\">\n",
    "Soient $D$ une droite passant par un point $A$ et de vecteur normal $\\overrightarrow{n}$.  <br>   \n",
    "- Un point $M$ appartient à $D \\iff \\overrightarrow{AM}.\\overrightarrow{n}=0$.  \n",
    "</div>\n",
    " \n",
    "<div class=\"alert alert-block alert-danger\"> \n",
    "- Tout vecteur non nul colinéaire à $\\overrightarrow{n}$ est un vecteur normal à $D$.  \n",
    "    <br>\n",
    "- Tout vecteur normal à $D$ est orthogonal à tout vecteur directeur de $D$.    \n",
    "</div>\n",
    "\n",
    "\n",
    "\n",
    "| Pages|Exercices|\n",
    "|---|---|\n",
    "|258|n° 1,3,4,5, 7 |"
   ]
  },
  {
   "cell_type": "markdown",
   "metadata": {},
   "source": [
    "### 3) Equation cartésienne de droite\n",
    "\n",
    "Soient a,b et c trois réels avec a et b différents de 0.  \n",
    "Une droite $D$ a pour équation cartésienne $ax+by+c=0 \\iff \\overrightarrow{n}(a;b)$ est un vecteur normal à $D$.\n",
    "\n",
    "<div class=\"alert alert-block alert-success\">\n",
    "    <b>Exemple:</b><br>\n",
    "Soit $\\Delta$ une droite passant par le point $A(3;4)$ et dont le vecteur $\\overrightarrow{n}$ de coordonnées $(-1;2)$ est un vecteur normal.  <br>\n",
    "\n",
    "Déterminer une équation cartésienne de $\\Delta$.<br>\n",
    "<br>\n",
    "<br>\n",
    "<br>\n",
    "<br>\n",
    "<br>\n",
    "</div>\n",
    "\n",
    "|Pages|Exercices|\n",
    "|---|---|\n",
    "|p 258| n° 9 et 10|\n",
    "|p 259| n° 12, 15 et 16|"
   ]
  },
  {
   "cell_type": "markdown",
   "metadata": {},
   "source": [
    "## II) Equation d'un cercle\n",
    "\n",
    "<div class=\"alert alert-block alert-danger\">\n",
    "Dans un repère orthonormé, l’équation cartésienne d’un cercle, $C$ de centre $\\Omega(a;b)$ et de rayon $r$ est de la forme : <br> \n",
    "    $$(x−a)^2+ (y−b)^2=r^2$$\n",
    "    <br><br><br><br><br><br><br><br>\n",
    "    </div>\n",
    "    \n",
    "Il est assez simple de le retrouver sur un cercle de centre $\\Omega$ avec le théorème de Pythagore.  \n",
    "  \n",
    "    \n",
    "      \n",
    "        \n",
    "        \n",
    "<div class=\"alert alert-block alert-success\">\n",
    "    <b>Exemple:</b><br>\n",
    "Montrer que l’ensemble des points $M(x;y)$ tels que : $x^2+y^2−2x−2y−2=0$ est un cercle. Préciser le rayon et les coordonnées du centre.  \n",
    "    <br><br><br><br><br><br><br><br><br><br><br>\n",
    "</div>\n",
    "\n",
    "|Pages|Exercices|\n",
    "|---|---|\n",
    "|260|n°33|\n",
    "|261|n° 35, 39,40,42|"
   ]
  },
  {
   "cell_type": "markdown",
   "metadata": {},
   "source": [
    " ## III) Parabole et symétrie\n",
    " \n",
    " <div class=\"alert alert-block alert-danger\">\n",
    " Dans un repère orthonormé, l'équation d'une parabole est: <br>\n",
    " $$y=ax^2+bx+c$$ avec $a,b$ et $c$ des réels.  <br><br>\n",
    " Cette parabole admet: <br>\n",
    " \n",
    " - pour axe de symétrie la droite d'équation $x=-\\frac{b}{2a}$;<br>\n",
    " \n",
    " - pour sommet le point $S\\big(-\\frac{b}{2a};f(-\\frac{b}{2a})\\big)$.\n",
    " </div>\n",
    " \n",
    " <div class=\"alert alert-block alert-success\">\n",
    "    <b>Exemple:</b><br>\n",
    "    On considère une parabole dont le sommet $S$ a pour coordonnées $(3;5)$ et qui passe par le point $A(0;10)$. <br>\n",
    "    Déterminer une équation de cette parabole.\n",
    "    </div>\n",
    "    \n",
    "    \n",
    "|Pages|Exercices|\n",
    "|---|---|\n",
    "|259|n° 17, 19, 21, 22|\n",
    "|260|n° 28 et 29|\n",
    "\n",
    "**Programme python se référant à l'activité TP3 atteindre une cible.**  \n",
    "Dans un repère orhtonormé du plan, on considère la carré ABCD tel que $A(0;0)$, $B(10;0)$, $C(10;10)$ et $D(0;10)$.  \n",
    "Au centre de ce carré, on a modélisé une cible par un cercle de centre I et de rayon 2 unités de longueur.   \n",
    "1) Ecrire une instruction qui génère aléatoirement deux nombres compris entre 0 et 10. Le premier nombre sera stocké dans une variable $x$ et le second dans une variable $y$.   \n",
    "2) Ecrire une fonction **cible** qui génère les valeurs de $x$ et $y$ et teste si le point de coordonnées$(x;y)$ est dans le cercle. La fonction renvoie **True** si c'est le cas et **False** dans le cas contraire.  \n",
    "3) Ecrire une fonction **frequence** qui prend en argument un nombre entier $n$ et qui renvoie la fréquence à laquelle le joueur atteint la cible pour $n$ exécutions de la fonction **cible**.   \n"
   ]
  },
  {
   "cell_type": "code",
   "execution_count": 59,
   "metadata": {},
   "outputs": [],
   "source": [
    "from random import *\n",
    "\n",
    "       \n"
   ]
  },
  {
   "cell_type": "code",
   "execution_count": 69,
   "metadata": {},
   "outputs": [
    {
     "data": {
      "text/plain": [
       "1257971"
      ]
     },
     "execution_count": 69,
     "metadata": {},
     "output_type": "execute_result"
    }
   ],
   "source": []
  },
  {
   "cell_type": "code",
   "execution_count": null,
   "metadata": {},
   "outputs": [],
   "source": []
  },
  {
   "cell_type": "code",
   "execution_count": null,
   "metadata": {},
   "outputs": [],
   "source": []
  }
 ],
 "metadata": {
  "kernelspec": {
   "display_name": "Python 3",
   "language": "python",
   "name": "python3"
  },
  "language_info": {
   "codemirror_mode": {
    "name": "ipython",
    "version": 3
   },
   "file_extension": ".py",
   "mimetype": "text/x-python",
   "name": "python",
   "nbconvert_exporter": "python",
   "pygments_lexer": "ipython3",
   "version": "3.7.3"
  }
 },
 "nbformat": 4,
 "nbformat_minor": 2
}
